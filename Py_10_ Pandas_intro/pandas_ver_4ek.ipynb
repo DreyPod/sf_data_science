{
 "cells": [
  {
   "cell_type": "code",
   "execution_count": 1,
   "metadata": {},
   "outputs": [
    {
     "data": {
      "text/plain": [
       "'pandas'"
      ]
     },
     "execution_count": 1,
     "metadata": {},
     "output_type": "execute_result"
    }
   ],
   "source": [
    "import pandas as pd\n",
    "pd.__version__\n",
    "pd.__name__"
   ]
  }
 ],
 "metadata": {
  "interpreter": {
   "hash": "5d422222097e3a33463c6cffc16adf0d52be1bcdcce08abbaa4fce0c7378cb51"
  },
  "kernelspec": {
   "display_name": "Python 3.9.7 64-bit ('SF': conda)",
   "language": "python",
   "name": "python3"
  },
  "language_info": {
   "codemirror_mode": {
    "name": "ipython",
    "version": 3
   },
   "file_extension": ".py",
   "mimetype": "text/x-python",
   "name": "python",
   "nbconvert_exporter": "python",
   "pygments_lexer": "ipython3",
   "version": "3.9.7"
  },
  "orig_nbformat": 4
 },
 "nbformat": 4,
 "nbformat_minor": 2
}
